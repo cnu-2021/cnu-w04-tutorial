{
 "cells": [
  {
   "cell_type": "markdown",
   "metadata": {},
   "source": [
    "# Week 4 worksheet: Gaussian elimination\n",
    "\n",
    "Gaussian elimination is a direct method to solve linear systems of the form $Ax = b$, with $A \\in \\mathbb{R}^{n\\times n}$ and $b \\in \\mathbb{R}^n$, to find the unknown $x \\in \\mathbb{R}^n$. This week, we put what we have seen so far into practice, and program different steps of the Gaussian elimination algorithm: forward substitution, backward substitution, and elementary row operations.\n",
    "\n",
    "The best way to learn programming is to write code. Don't hesitate to edit the code in the example cells, or add your own code, to test your understanding. You will find practice exercises throughout the notebook, denoted by 🚩 ***Exercise $x$:***.\n",
    "\n",
    "#### Displaying solutions\n",
    "\n",
    "Solutions will be released one week after the worksheets are released, as a new `.txt` file in the same GitHub repository. After pulling the file to your workspace (either your computer or your Noteable server), run the following cell to create clickable buttons under each exercise, which will allow you to reveal the solutions."
   ]
  },
  {
   "cell_type": "code",
   "execution_count": null,
   "metadata": {},
   "outputs": [],
   "source": [
    "%run scripts/create_widgets.py week04"
   ]
  },
  {
   "cell_type": "markdown",
   "metadata": {},
   "source": [
    "---\n",
    "### 📚 Book sections\n",
    "\n",
    "- **ASC**: sections 4.1, ***4.2***, 4.7, 4.8\n",
    "- **PCP**: sections 2.3, 2.4, 5.6\n",
    "\n",
    "🚩 Section **4.2** of **ASC** is **mandatory reading** this week, particularly when working through sections 3 and 4 of this notebook. You probably have seen Gaussian elimination in your first year Linear Algebra course, so this should be familiar already -- but this will be a good refresher.\n",
    "\n",
    "---\n",
    "## 1. NumPy's `np.linalg`\n",
    "\n",
    "Numpy has a **sub-module** called `linalg`, which contains many useful functions for linear algebra and matrix operations. If we imported Numpy as `np`, for example, then to use the functions in `linalg`, you will need to prefix them with `np.linalg.`. Some of the functions provided by the `np.linalg` submodule are:"
   ]
  },
  {
   "cell_type": "code",
   "execution_count": null,
   "metadata": {},
   "outputs": [],
   "source": [
    "import numpy as np\n",
    "\n",
    "# Create a random 3x3 matrix and a vector of three 1s\n",
    "A = np.random.random([3, 3])\n",
    "b = np.ones(3)\n",
    "\n",
    "print(np.linalg.eigvals(A))              # Eigenvalues of a matrix: note the complex values here, j=sqrt(-1)\n",
    "eig_val_A, eig_vec_A = np.linalg.eig(A)  # Eigenvalues and right eigenvectors\n",
    "print(\"Eigenvalues: \", eig_val_A)\n",
    "print(\"Eigenvectors: \", eig_vec_A)\n",
    "\n",
    "print('\\nInverse and determinant:')\n",
    "print(\"A^(-1) =\", np.linalg.inv(A))  # Inverse of a matrix\n",
    "print(\"det(A) =\", np.linalg.det(A))  # Determinant of a matrix\n",
    "\n",
    "print('\\nSolution of Ax = b:')\n",
    "print(\"x =\", np.linalg.solve(A, b))  # Solve Ax = b for x"
   ]
  },
  {
   "cell_type": "markdown",
   "metadata": {},
   "source": [
    "---\n",
    "**📚 Learn more:**\n",
    "* [numpy.linalg](https://docs.scipy.org/doc/numpy/reference/routines.linalg.html)\n",
    "* **ASC**: section 4.8\n",
    "---\n",
    "\n",
    "🚩 ***Exercise 1:*** Create two variables `M` and `y`, assigned with Numpy arrays representing the matrix $M$ and vector $y$ defined as (you can reuse your code from Exercise 4 in the Week 3 tutorial)\n",
    "\n",
    "$$\n",
    "M =\n",
    "\\begin{pmatrix}\n",
    "9 & 3 & 0 \\\\\n",
    "-2 & -2 & 1 \\\\\n",
    "0 & -1 & 1\n",
    "\\end{pmatrix}, \\qquad\n",
    "y =\n",
    "\\begin{pmatrix}\n",
    "0.4 \\\\ -3 \\\\ -0.3\n",
    "\\end{pmatrix}.\n",
    "$$\n",
    "\n",
    "Then, solve the system $Mx = y$ for $x$, using `np.linalg.solve()`.\n",
    "\n",
    "*For checking:* the result should be `[-3.16666667  9.63333333  9.93333333]`."
   ]
  },
  {
   "cell_type": "code",
   "execution_count": null,
   "metadata": {},
   "outputs": [],
   "source": []
  },
  {
   "cell_type": "code",
   "execution_count": null,
   "metadata": {
    "tags": [
     "solution_cell"
    ]
   },
   "outputs": [],
   "source": [
    "%run scripts/show_solutions.py week04_ex1"
   ]
  },
  {
   "cell_type": "markdown",
   "metadata": {},
   "source": [
    "---\n",
    "## 2. Diagonal matrices\n",
    "\n",
    "Diagonal matrices have elements off the leading diagonal equal to zero. Elements on the leading diagonal of a diagonal matrix may or may not be equal to zero. A diagonal matrix $A$ is invertible iff none of its diagonal elements are equal to zero.\n",
    "\n",
    "### 2.1. Solving diagonal systems\n",
    "\n",
    "When $A$ is a diagonal matrix, the linear system $Ax = b$ can be written as\n",
    "\n",
    "$$\n",
    "\\begin{pmatrix}\n",
    "a_{11} & & & \\\\\n",
    "& a_{22} & & \\\\\n",
    "& & \\ddots & \\\\\n",
    "& & & a_{nn}\n",
    "\\end{pmatrix}\n",
    "\\begin{pmatrix}\n",
    "x_1 \\\\ x_2 \\\\ \\vdots \\\\ x_n\n",
    "\\end{pmatrix}\n",
    "=\n",
    "\\begin{pmatrix}\n",
    "b_1 \\\\ b_2 \\\\ \\vdots \\\\ b_n\n",
    "\\end{pmatrix}\n",
    "\\qquad \\Leftrightarrow \\qquad\n",
    "\\begin{cases}\n",
    "a_{11} x_1 &= b_1 \\\\\n",
    "a_{22} x_2 &= b_2 \\\\\n",
    "&\\vdots \\\\\n",
    "a_{nn} x_n &= b_n\n",
    "\\end{cases},\n",
    "$$\n",
    "\n",
    "where $a_{ii}, b_{i}, i = 1, \\dots, n$ are known. The matrix $A$ is invertible (and therefore the system $Ax = b$ has precisely one solution) iff all $a_{ii} \\neq 0$.\n",
    "\n",
    "---\n",
    "🚩 ***Exercise 2:*** Write a function `linsolve_diag()` which solves the linear system $A x = b$, returning $x$ in the output variable `x` (as a NumPy array), without using `np.linalg.solve()`. Here the input `A` should be assumed to be an invertible **diagonal** square matrix, and `b` a column vector.\n",
    "\n",
    "*Hints:*\n",
    "- Use the `.shape` attribute of NumPy arrays to determine the size of the input matrix and vector.\n",
    "- The solution may be computed using a `for` loop.\n",
    "- There is also an efficient way to do this via a NumPy function which extracts the diagonal elements of a matrix.\n",
    "\n",
    "*For checking:* the solution to the given example is $[20, 10]$."
   ]
  },
  {
   "cell_type": "code",
   "execution_count": null,
   "metadata": {},
   "outputs": [],
   "source": [
    "import numpy as np\n",
    "\n",
    "\n",
    "def linsolve_diag(A, b):\n",
    "    '''\n",
    "    Solves the diagonal system Ax = b for x,\n",
    "    assuming A is invertible.\n",
    "    '''\n",
    "    # your code here\n",
    "    \n",
    "    \n",
    "    return x\n",
    "\n",
    "\n",
    "# Expected solution: [20, 10]\n",
    "A = np.array([[2, 0],\n",
    "              [0, 0.5]])\n",
    "b = np.array([40, 5])\n",
    "print(linsolve_diag(A, b))"
   ]
  },
  {
   "cell_type": "code",
   "execution_count": null,
   "metadata": {
    "tags": [
     "solution_cell"
    ]
   },
   "outputs": [],
   "source": [
    "%run scripts/show_solutions.py week04_ex2"
   ]
  },
  {
   "cell_type": "markdown",
   "metadata": {},
   "source": [
    "---\n",
    "🚩 ***Exercise 3:*** Use your `linsolve_diag` function to solve the linear system\n",
    "\n",
    "\\begin{equation}\n",
    "  \\left( \\begin{array}{ccc} 3 & 0 & 0 \\\\ 0 & -1 & 0 \\\\ 0\n",
    "& 0 & 10 \\end{array} \\right) x = \\left( \\begin{array}{c} 3 \\\\ 1 \\\\ 1 \\end{array}\n",
    "\\right),\n",
    "\\end{equation}\n",
    "\n",
    "for $x$."
   ]
  },
  {
   "cell_type": "code",
   "execution_count": null,
   "metadata": {},
   "outputs": [],
   "source": []
  },
  {
   "cell_type": "code",
   "execution_count": null,
   "metadata": {
    "tags": [
     "solution_cell"
    ]
   },
   "outputs": [],
   "source": [
    "%run scripts/show_solutions.py week04_ex3"
   ]
  },
  {
   "cell_type": "markdown",
   "metadata": {},
   "source": [
    "### 2.2. Measuring computation time\n",
    "\n",
    "The `time()` function in Python's `time` module allows Python to read the current time from your computer's clock. We can therefore use it to time how long it takes a section of code to run, as follows:\n",
    "\n",
    "```python\n",
    "import time\n",
    "\n",
    "t0 = time.time()\n",
    "# Code to time\n",
    "t = time.time() - t0\n",
    "print(f\"Elapsed time: {t:.6f} seconds\")\n",
    "```\n",
    "\n",
    "and the resulting time is stored in the variable `t`, as the time elapsed between the first and the second measurement.\n",
    "\n",
    "---\n",
    "**📚 Learn more:**\n",
    "- [The `time` module](https://docs.python.org/3/library/time.html) - Python documentation\n",
    "- [`time.time()`](https://docs.python.org/3/library/time.html#time.time) - Python documentation\n",
    "- **PCP**: section 5.6, which discusses measuring computation time and efficiency, and provides examples using a different Python module called [`timeit`](https://docs.python.org/3/library/timeit.html)\n",
    "\n",
    "---\n",
    "🚩 ***Exercise 4:*** The following code generates a randomised invertible diagonal square matrix $A$ with dimension $N$, stored in the variable `A`, and a right-hand-side vector $b$, stored in the variable `b`, for a given value of `N`. Use `time.time()` to time how long it takes the `np.linalg.solve()` function to solve $A x = b$ for $x$. Compare this against the time it takes your `linsolve_diag()` function from Exercise 2 to solve for $x$, for different values of `N`.\n",
    "\n",
    "Display the measured times in a way that is convenient to read (you can use an f-string, for instance; see the Week 1 workshop task).\n",
    "\n",
    "*Hint:* limit `N` to less than $\\sim 1,000$ to avoid using excessive memory."
   ]
  },
  {
   "cell_type": "code",
   "execution_count": null,
   "metadata": {},
   "outputs": [],
   "source": [
    "import time\n",
    "\n",
    "# Create a randomised invertible diagonal matrix A and vector b\n",
    "N = 500\n",
    "A = np.diag(np.random.random([N])) + np.eye(N)\n",
    "b = np.random.random([N])\n",
    "\n",
    "# your code here"
   ]
  },
  {
   "cell_type": "code",
   "execution_count": null,
   "metadata": {
    "tags": [
     "solution_cell"
    ]
   },
   "outputs": [],
   "source": [
    "%run scripts/show_solutions.py week04_ex4"
   ]
  },
  {
   "cell_type": "markdown",
   "metadata": {},
   "source": [
    "---\n",
    "\n",
    "## 3. Forward and backward substitution\n",
    "\n",
    "Gaussian elimination can be performed in 2 steps: forward substitution and backward substitution. In your previous courses on linear algebra, you probably have performed this by hand on small systems ($4\\times 4$ or so). We can *implement* (program) the procedure in Python to be able to solve systems of any size much more quickly.\n",
    "\n",
    "### 3.1. Lower triangular systems: forward substitution\n",
    "\n",
    "**Lower triangular matrices** have elements above the leading diagonal equal to zero. Elements on or below the leading diagonal may or may not be equal to zero.\n",
    "\n",
    "Linear systems involving lower triangular invertible square matrices can be solved via **forward substitution**. For example for the linear system\n",
    "\n",
    "\\begin{equation}\n",
    "  \\left( \\begin{array}{ccc}  2 & 0 & 0 \\\\ -1 & 1 & 0 \\\\ -1 & 1 & 2 \\end{array} \\right)\n",
    "  \\left( \\begin{array}{c} x_1 \\\\ x_2 \\\\ x_3 \\end{array} \\right)\n",
    "  = \\left( \\begin{array}{c} 4 \\\\ 1 \\\\ 4 \\end{array} \\right),\n",
    "\\end{equation}\n",
    "\n",
    "applying the matrix multiplication gives\n",
    "\n",
    "\\begin{equation}\n",
    "\t\\left( \\begin{array}{c} 2 x_1 \\\\ -x_1 + x_2 \\\\ -x_1 + x_2 + 2 x_3 \\end{array} \\right)\n",
    "\t= \\left( \\begin{array}{c} 4 \\\\ 1 \\\\ 4 \\end{array} \\right),\n",
    "\\end{equation}\n",
    "\n",
    "where, for instance, $-x_1 + x_2 + 2 x_3$ is the 3rd element of the vector $Ax$. Comparing the first elements gives $x_1$. Since $x_1$ is now known, comparing the second elements gives $x_2$. Since $x_1$ and $x_2$ are now known, comparing the third elements gives $x_3$.\n",
    "\n",
    "In other words, $x_1$ is trivial to compute, and is then *substituted* into the next equation, which means that $x_2$ is now trivial to compute, etc. The substitutions cascade *forward*.\n",
    "\n",
    "#### Forward substitution in Python\n",
    "\n",
    "The function `linsolve_lt()` below solves the linear system $A x = b$ using forward substitution, returning $x$ in the output variable `x`. Here the input `A` should be assumed to be an invertible **lower triangular** square matrix, and `b` a column vector."
   ]
  },
  {
   "cell_type": "code",
   "execution_count": null,
   "metadata": {},
   "outputs": [],
   "source": [
    "def linsolve_lt(A, b):\n",
    "    '''\n",
    "    Solves the lower triangular system Ax = b.\n",
    "    '''\n",
    "    N = b.shape[0]\n",
    "    x = np.zeros(N)\n",
    "    for i in range(N):\n",
    "        x[i] = (b[i] - A[i, :i] @ x[:i]) / A[i, i]\n",
    "    return x\n",
    "\n",
    "# Solving the system in the example above\n",
    "A = np.array([[2, 0, 0],\n",
    "              [-1, 1, 0],\n",
    "              [-1, 1, 2]], dtype=float)\n",
    "b = np.array([4, 1, 4], dtype=float)\n",
    "x = linsolve_lt(A, b)\n",
    "print(x)"
   ]
  },
  {
   "cell_type": "markdown",
   "metadata": {},
   "source": [
    "---\n",
    "🚩 ***Exercise 5:*** Examine the function `linsolve_lt()` carefully to understand how and why it works. Add code comments in the function definition to explain each step.\n",
    "\n",
    "*Hint:* pen and paper will be useful here! Write (or sketch) what line 8 achieves depending on the value of `row`. For instance, what happens at the first iteration of the loop (when `row` is `0`)? at the second iteration (when `row` is `1`)? etc."
   ]
  },
  {
   "cell_type": "code",
   "execution_count": null,
   "metadata": {},
   "outputs": [],
   "source": []
  },
  {
   "cell_type": "code",
   "execution_count": null,
   "metadata": {
    "tags": [
     "solution_cell"
    ]
   },
   "outputs": [],
   "source": [
    "%run scripts/show_solutions.py week04_ex5"
   ]
  },
  {
   "cell_type": "markdown",
   "metadata": {},
   "source": [
    "---\n",
    "### 3.2.  Upper triangular systems: backward substitution\n",
    "\n",
    "**Upper triangular matrices** have elements below the leading diagonal equal to zero. Elements on or above the leading diagonal may or may not be equal to zero.\n",
    "\n",
    "Linear systems involving upper triangular invertible square matrices can be solved via **backward substitution**. Backward substitution is similar to forward substitution, but starts from the last row, and substitutions cascade backward until the first row.\n",
    "\n",
    "#### Backward substitution in Python\n",
    "\n",
    "🚩 ***Exercise 6:*** Write a function `linsolve_ut()` which solves the linear system $A x = b$ using backward substitution, returning $x$ in the output variable `x`. Here the input `A` should be assumed to be an invertible **upper triangular** square matrix, and `b` a column vector.\n",
    "\n",
    "You can start from `linsolve_lt()` above and adapt it to use backward substitution.\n",
    "\n",
    "*For checking:* The solution to the given example is $[-1, 2]$."
   ]
  },
  {
   "cell_type": "code",
   "execution_count": null,
   "metadata": {},
   "outputs": [],
   "source": [
    "def linsolve_ut(A, b):\n",
    "    '''\n",
    "    Solves the upper triangular system Ax = b.\n",
    "    '''\n",
    "    # your code here\n",
    "    \n",
    "    return x\n",
    "\n",
    "\n",
    "# Testing with an example\n",
    "A = np.array([[1, 1],\n",
    "              [0, 0.5]])\n",
    "b = np.array([1, 1])\n",
    "x = linsolve_ut(A, b)\n",
    "print(x)"
   ]
  },
  {
   "cell_type": "code",
   "execution_count": null,
   "metadata": {
    "tags": [
     "solution_cell"
    ]
   },
   "outputs": [],
   "source": [
    "%run scripts/show_solutions.py week04_ex6"
   ]
  },
  {
   "cell_type": "markdown",
   "metadata": {},
   "source": [
    "---\n",
    "🚩 ***Exercise 7:*** The following code generates an invertible upper triangular square matrix $A$ with dimension $N$, stored in the variable `A`, and a right-hand-side vector $b$, stored in the variable `b`, for a given value of `N`. Use `time.time()` to time how long it takes the `np.linalg.solve()` function to solve $A x = b$ for $x$. Compare this against the time it takes your `linsolve_ut()` function to solve for $x$, for different values of `N`.\n",
    "\n",
    "*Hint:* Limit `N` to less than $\\sim 1,000$ to avoid using excessive memory."
   ]
  },
  {
   "cell_type": "code",
   "execution_count": null,
   "metadata": {},
   "outputs": [],
   "source": [
    "import time\n",
    "\n",
    "# Create a randomised invertible upper triangular matrix A and vector b\n",
    "N = 800\n",
    "A = np.triu(np.random.random([N])) + np.eye(N)\n",
    "b = np.random.random([N])\n",
    "\n",
    "# your code here"
   ]
  },
  {
   "cell_type": "code",
   "execution_count": null,
   "metadata": {
    "tags": [
     "solution_cell"
    ]
   },
   "outputs": [],
   "source": [
    "%run scripts/show_solutions.py week04_ex7"
   ]
  },
  {
   "cell_type": "markdown",
   "metadata": {},
   "source": [
    "## 4. Gaussian elimination\n",
    "\n",
    "We now know how to solve lower and upper triangular systems. Now, consider a system which is not triangular -- for instance:\n",
    "\n",
    "$$\n",
    "\\begin{pmatrix}\n",
    "1 & 1 & 1 \\\\ 2 & 1 & -1 \\\\ 1 & 1 & 2\n",
    "\\end{pmatrix}\n",
    "\\begin{pmatrix}\n",
    "x_1 \\\\ x_2 \\\\ x_3\n",
    "\\end{pmatrix}\n",
    "\\begin{pmatrix}\n",
    "2 \\\\ 1 \\\\ 0\n",
    "\\end{pmatrix}.\n",
    "$$\n",
    "\n",
    "We can build the *augmented matrix* by adding $b$ as an extra column in $A$:\n",
    "\n",
    "$$\n",
    "\\begin{pmatrix} 1 & 1 & 1 & 2 \\\\ 2 & 1 & -1 & 1 \\\\ 1 & 1 & 2 & 0 \\end{pmatrix}.\n",
    "$$\n",
    "\n",
    "The goal is now to **reduce** this augmented matrix into **reduced row echelon form** (RREF), i.e.\n",
    "\n",
    "$$\n",
    "\\begin{pmatrix}\n",
    "1 & 0 & 0 & x_1 \\\\ 0 & 1 & 0 & x_2 \\\\ 0 & 0 & 1 & x_3 \\end{pmatrix},\n",
    "$$\n",
    "\n",
    "and the final column is then the solution of the original linear problem. We do this by applying **elementary row operations** to the augmented matrix, to create zeros under each diagonal element:\n",
    "\n",
    "  \\begin{align*}\n",
    "    \\left( \\begin{array}{cccc} 1 & 1 & 1 & 2 \\\\ 2 & 1 & -1 & 1 \\\\ 1 & 1 & 2 & 0 \\end{array} \\right)\n",
    "    \\underset{R_2 - 2 R_1}{\\rightarrow} \n",
    "    & \\left( \\begin{array}{cccc} 1 & 1 & 1 & 2 \\\\ 0 & -1 & -3 & -3 \\\\ 1 & 1 & 2 & 0 \\end{array} \\right) \\nonumber \\\\\n",
    "    \\underset{R_3 - R_1}{\\rightarrow} \n",
    "    & \\left( \\begin{array}{cccc} 1 & 1 & 1 & 2 \\\\ 0 & -1 & -3 & -3 \\\\ 0 & 0 & 1 & -2 \\end{array} \\right) \\nonumber \\\\\n",
    "  \\end{align*}\n",
    "  \n",
    "This is equivalent to the linear equations:\n",
    "\n",
    "  \\begin{align*}\n",
    "    1 x_1 + 1 x_2 + 1 x_3 & = 2, \\nonumber \\\\\n",
    "    0 x_1 - 1 x_2 - 3 x_3 & = -3, \\nonumber \\\\\n",
    "    0 x_1 + 0 x_2 + 1 x_3 & = -2.\n",
    "  \\end{align*}\n",
    "  \n",
    "We could keep going, and apply further elementary row operations to the augmented matrix... but this system is now **upper triangular**, and therefore we can solve it using **backward substitution**!\n",
    "\n",
    "Time to tie it all together -- remember that you can check section **4.2** in **ASC** for help for these final problems.\n",
    "\n",
    "### 4.1. Elementary row operations\n",
    "\n",
    "🚩 ***Exercise 8:*** Write a function `row_op()` which applies the elementary row operation\n",
    "\n",
    "\\begin{equation}\n",
    "  \\left( \\textrm{Row} j \\right) \\rightarrow \\beta \\times \\left( \\textrm{Row } j \\right) + \\alpha \\times \\left( \\textrm{Row } i \\right),\n",
    "\\end{equation}\n",
    "\n",
    "where $\\alpha, \\beta \\in \\mathbb{R}$.\n",
    "\n",
    "*For checking:* The solution to the given example is $[[0, 4], [1, 2]]$.\n",
    "\n",
    "*Hint:* Input arguments of functions can be modified if they are e.g. lists or NumPy arrays (remember section 4 of the Week 3 tutorial), so you can apply this operation to `A` itself, and thus change it. As long as you don't redefine `A` from scratch inside the function, you don't even need to return it, as it will be changed in place. Since you don't return it (i.e. you return `None`), there is no result to assign to a new variable -- so simply calling your function (as in the example), without assigning the output to `A` for instance, will still work.\n",
    "\n",
    "Here is a simpler example to illustrate this:"
   ]
  },
  {
   "cell_type": "code",
   "execution_count": null,
   "metadata": {},
   "outputs": [],
   "source": [
    "def change_in_place(x):\n",
    "    '''\n",
    "    Change the first element of x in-place.\n",
    "    '''\n",
    "    x[0] = 12345   # note that we don't return anything here!\n",
    "\n",
    "    \n",
    "# Test our function\n",
    "z = np.array([10, 15, 20, 25])\n",
    "print(z)\n",
    "change_in_place(z)   # this changes z itself, no \"output\" to store in a variable here\n",
    "print(z)"
   ]
  },
  {
   "cell_type": "code",
   "execution_count": null,
   "metadata": {},
   "outputs": [],
   "source": [
    "def row_op(A, alpha, i, beta, j):\n",
    "    '''\n",
    "    Applies row operation beta*A_j + alpha*A_i to A_j,\n",
    "    the jth row of the matrix A.\n",
    "    Changes A in place.\n",
    "    '''\n",
    "    # your code here\n",
    "    \n",
    "\n",
    "# Testing with an example\n",
    "A = np.array([[2, 0],\n",
    "              [1, 2]])\n",
    "alpha, beta = 2, -1\n",
    "i, j = 1, 0\n",
    "\n",
    "# If you don't return A, it will be changed in-place when the function is executed\n",
    "print(A)\n",
    "row_op(A, alpha, i, beta, j)   # this changes A\n",
    "print(A)"
   ]
  },
  {
   "cell_type": "code",
   "execution_count": null,
   "metadata": {
    "tags": [
     "solution_cell"
    ]
   },
   "outputs": [],
   "source": [
    "%run scripts/show_solutions.py week04_ex8"
   ]
  },
  {
   "cell_type": "markdown",
   "metadata": {},
   "source": [
    "### 4.2. Row echelon form\n",
    "\n",
    "🚩 ***Exercise 9 (challenging):*** Write a function `REF()` which takes as inputs `A` and `b`, a square invertible matrix and a vector, and returns `C` and `d`, which are respectively `A` and `b` transformed by successive elementary row operations, so that `C` is upper triangular (and the system $Cx = d$ is equivalent to $Ax = b$).\n",
    "\n",
    "Your function should first build the augmented matrix $( A | b )$, and use elementary row operations as in the example above to reduce it to row echelon form. Finally, it should split the final augmented matrix into a square matrix `C` and a vector `d`.\n",
    "\n",
    "Use your function `row_op()` to perform the row operations: **you do not need to re-define it here**, you can simply *call* it -- i.e. use the command `row_op(..)` with appropriate input arguments inside your function `REF()`.\n",
    "\n",
    "You will have to calculate $\\alpha$ and $\\beta$ for each row operation. For instance, in the example above, the first row operation performed is $R_2 \\to R_2 - 2R_1$, therefore we have $i=1$, $j=2$, $\\alpha = -2$, and $\\beta = 1$. How can you know that these values of $\\alpha$ and $\\beta$ will ensure that the element in the second row, first column becomes 0? (*hint: you should see similarities with your forward substitution algorithm.*)\n",
    "\n",
    "*Hint:* think about how you would do this on paper. You will need to create zeros under the diagonal element in each column (one after another), and you will need a separate row operation for each row (in a given column) to make the leading element zero. You will need 2 nested loops.\n",
    "\n",
    "*For checking:* `C` and `d` should be as in the example above."
   ]
  },
  {
   "cell_type": "code",
   "execution_count": null,
   "metadata": {},
   "outputs": [],
   "source": [
    "def REF(A, b):\n",
    "    '''\n",
    "    Reduces the augmented matrix (A|b) into\n",
    "    row echelon form, returns (C|d).\n",
    "    '''\n",
    "    # your code here\n",
    "    \n",
    "    return C, d\n",
    "\n",
    "# Testing with an example\n",
    "A = np.array([[1, 1, 1],\n",
    "              [2, 1, -1],\n",
    "              [1, 1, 2]], dtype=float)\n",
    "b = np.array([2, 1, 0], dtype=float)\n",
    "\n",
    "C, d = REF(A, b)\n",
    "print(C)\n",
    "print(d)"
   ]
  },
  {
   "cell_type": "code",
   "execution_count": null,
   "metadata": {
    "tags": [
     "solution_cell"
    ]
   },
   "outputs": [],
   "source": [
    "%run scripts/show_solutions.py week04_ex9"
   ]
  },
  {
   "cell_type": "markdown",
   "metadata": {},
   "source": [
    "### 4.3. Completing Gaussian elimination\n",
    "\n",
    "We have done all the hard work now, all that is left is to put it all together.\n",
    "\n",
    "🚩 ***Exercise 10:*** Write a function `gauss()` which, given an invertible matrix `A` and a column vector `b`,  solves the system $Ax = b$ and returns the result as `x`. This function should make use of your previous functions `REF()` and `linsolve_ut()`. (Again, no need to define them again here, just call them.)\n",
    "\n",
    "*For checking:* the result here should be $[-5, 9, -2]$.\n",
    "\n",
    "*For further checking:* given an arbitrary `A` and `b`, how can you check that `x` is indeed the solution to $Ax = b$ (to machine precision)?"
   ]
  },
  {
   "cell_type": "code",
   "execution_count": null,
   "metadata": {},
   "outputs": [],
   "source": [
    "def gauss(A, b):\n",
    "    '''\n",
    "    Solve the linear system Ax = b, given a square\n",
    "    invertible matrix A and a vector b, using Gaussian elimination.\n",
    "    '''\n",
    "    # your code here\n",
    "    \n",
    "    return x\n",
    "\n",
    "\n",
    "# Test the function\n",
    "A = np.array([[1, 1, 1],\n",
    "              [2, 1, -1],\n",
    "              [1, 1, 2]], dtype=float)\n",
    "b = np.array([2, 1, 0], dtype=float)\n",
    "\n",
    "x = gauss(A, b)\n",
    "print(x)"
   ]
  },
  {
   "cell_type": "code",
   "execution_count": null,
   "metadata": {
    "tags": [
     "solution_cell"
    ]
   },
   "outputs": [],
   "source": [
    "%run scripts/show_solutions.py week04_ex9"
   ]
  }
 ],
 "metadata": {
  "celltoolbar": "Tags",
  "kernelspec": {
   "display_name": "Python 3",
   "language": "python",
   "name": "python3"
  },
  "language_info": {
   "codemirror_mode": {
    "name": "ipython",
    "version": 3
   },
   "file_extension": ".py",
   "mimetype": "text/x-python",
   "name": "python",
   "nbconvert_exporter": "python",
   "pygments_lexer": "ipython3",
   "version": "3.7.6"
  }
 },
 "nbformat": 4,
 "nbformat_minor": 2
}
